{
 "cells": [
  {
   "cell_type": "markdown",
   "metadata": {
    "id": "cxCHAm0GXfFb"
   },
   "source": [
    "# Strings\n",
    "## Practice Problems"
   ]
  },
  {
   "cell_type": "markdown",
   "metadata": {
    "id": "DbzTxpsposCe"
   },
   "source": [
    "### 1. Write a multi-line string about anything you want and print it\n",
    "\n"
   ]
  },
  {
   "cell_type": "code",
   "execution_count": 2,
   "metadata": {
    "id": "p5sB4WjWh2Tp"
   },
   "outputs": [
    {
     "name": "stdout",
     "output_type": "stream",
     "text": [
      " Bleach\n",
      "                  Attack on Titan\n",
      "                  Hunter x Hunter\n",
      "                  Fullmetal Alchemist\n"
     ]
    }
   ],
   "source": [
    "# multiline string about best animes that you have seen\n",
    "best_animes = \"\"\" Bleach\n",
    "                  Attack on Titan\n",
    "                  Hunter x Hunter\n",
    "                  Fullmetal Alchemist\"\"\"\n",
    "\n",
    "# print the multiline string\n",
    "print(best_animes)"
   ]
  },
  {
   "cell_type": "markdown",
   "metadata": {},
   "source": [
    "### 2. Append a \"world\" to the following word."
   ]
  },
  {
   "cell_type": "code",
   "execution_count": 3,
   "metadata": {},
   "outputs": [
    {
     "name": "stdout",
     "output_type": "stream",
     "text": [
      "hello world\n"
     ]
    }
   ],
   "source": [
    "# Append a \"world\" to the following word\n",
    "word = \"hello\"\n",
    "# Append \"world\" to the word\n",
    "word += \" world\"\n",
    "# Print the word\n",
    "print(word)"
   ]
  }
 ],
 "metadata": {
  "colab": {
   "authorship_tag": "ABX9TyO3VijQCXDe7a1I0vgK92JH",
   "collapsed_sections": [],
   "provenance": []
  },
  "kernelspec": {
   "display_name": "dsi_participant",
   "language": "python",
   "name": "python3"
  },
  "language_info": {
   "codemirror_mode": {
    "name": "ipython",
    "version": 3
   },
   "file_extension": ".py",
   "mimetype": "text/x-python",
   "name": "python",
   "nbconvert_exporter": "python",
   "pygments_lexer": "ipython3",
   "version": "3.9.21"
  }
 },
 "nbformat": 4,
 "nbformat_minor": 0
}
