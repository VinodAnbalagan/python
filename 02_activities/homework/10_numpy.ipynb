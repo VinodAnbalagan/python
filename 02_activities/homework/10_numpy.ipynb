{
 "cells": [
  {
   "cell_type": "markdown",
   "metadata": {
    "id": "o9ZHooznNUJM"
   },
   "source": [
    "# NumPy\n",
    "## Practice Problems"
   ]
  },
  {
   "cell_type": "markdown",
   "metadata": {
    "id": "CjqzgdT1FY8H"
   },
   "source": [
    "### 1. The formula for exponential growth is `population_size = N0 *e**rt`, where `N0` is the initial population, `e` is the exponential function, `r` is the rate, and `t` is time. Using this:\n",
    "\n",
    "1.   Set the initial population, `N0`, as 100 and the growth rate, `r`, as 0.4\n",
    "2.   Use the suitable `numpy` function to generate an array of time points, `t`, which go from 0 to 10 seconds, in 0.2 second increments.\n",
    "3.   Write an expression to evaluate `population_size`, which should be an array of the population size for each time point in `t`.\n",
    "4.   Create a new variable called `population_size_noise`, use the same expression you wrote in parts (3), and add noise to the population at each time point. Do this by adding an expression that uses a `numpy` function to generate a random value for each time point drawn from a normal distribution of `mean=0` and `stdev=250` (i.e., population_size_noise = expression_from_part_a + expression_to_add_noise)."
   ]
  },
  {
   "cell_type": "code",
   "execution_count": 1,
   "metadata": {
    "colab": {
     "base_uri": "https://localhost:8080/"
    },
    "executionInfo": {
     "elapsed": 7,
     "status": "ok",
     "timestamp": 1668296875008,
     "user": {
      "displayName": "Kaylie Lau",
      "userId": "01284785813595846851"
     },
     "user_tz": 300
    },
    "id": "ULSswoS4EhRs",
    "outputId": "6d541d46-0b4f-4300-9d52-bfd6d4877aff"
   },
   "outputs": [
    {
     "name": "stdout",
     "output_type": "stream",
     "text": [
      "Time points (t): [ 0.   0.2  0.4  0.6  0.8  1.   1.2  1.4  1.6  1.8  2.   2.2  2.4  2.6\n",
      "  2.8  3.   3.2  3.4  3.6  3.8  4.   4.2  4.4  4.6  4.8  5.   5.2  5.4\n",
      "  5.6  5.8  6.   6.2  6.4  6.6  6.8  7.   7.2  7.4  7.6  7.8  8.   8.2\n",
      "  8.4  8.6  8.8  9.   9.2  9.4  9.6  9.8 10. ]\n",
      "Population size (without noise): [ 100.          108.32870677  117.3510871   127.12491503  137.71277643\n",
      "  149.18246976  161.60744022  175.06725003  189.64808793  205.44332106\n",
      "  222.55409285  241.08997064  261.16964734  282.92170144  306.48542033\n",
      "  332.01169227  359.66397256  389.61933018  422.0695817   457.22251951\n",
      "  495.30324244  536.55559711  581.24373944  629.6538261   682.09584693\n",
      "  738.90560989  800.44689143  867.11376585  939.33312874 1017.56743061\n",
      " 1102.31763806 1194.12644178 1293.58173155 1401.32036077 1518.0322245\n",
      " 1644.46467711 1781.42731796 1929.79717555 2090.52432351 2264.63796432\n",
      " 2453.25301971 2657.57726999 2878.91908792 3118.69581683 3378.44284638\n",
      " 3659.82344437 3964.63940726 4294.84259788 4652.54744398 5040.04447781\n",
      " 5459.81500331]\n",
      "Population size (with noise): [ 131.79939596  -95.44491645   65.59121575   63.98740984  340.33822602\n",
      "  102.01781981  414.50548334  347.78629131   76.68637218  422.24146099\n",
      "  316.37517691  205.25769818  255.82634102  995.36911027  562.8805362\n",
      "  276.56731711  347.10326973  403.72020179  578.06468369  506.3295722\n",
      "  339.22037362  365.83340222 1178.49854736  309.97028195  511.74582428\n",
      "  764.88260689  653.73182895  631.48303044 1153.19782561 1192.98918987\n",
      "  915.54538757  794.25224126 1608.15800135 1317.86661451 1459.29966388\n",
      " 1453.05243201 1368.83318615 2451.3187771  2014.5879228  2267.09142772\n",
      " 2425.26174318 3067.89626268 2364.66058353 3007.60136502 3239.87171574\n",
      " 3436.65172927 3820.73039336 4364.04983172 4675.5010562  4774.86232264\n",
      " 5430.40110355]\n"
     ]
    }
   ],
   "source": [
    "\"\"\"The formula for exponential growth is `population_size = N0 *e**rt`, where `N0` is the initial population, \n",
    "`e` is the exponential function, `r` is the rate, and `t` is time. Using this:\n",
    "\n",
    "1.   Set the initial population, `N0`, as 100 and the growth rate, `r`, as 0.4\n",
    "2.   Use the suitable `numpy` function to generate an array of time points, `t`, which go from 0 to 10 seconds, in 0.2 second increments.\n",
    "3.   Write an expression to evaluate `population_size`, which should be an array of the population size for each time point in `t`.\n",
    "4.   Create a new variable called `population_size_noise`, use the same expression you wrote in parts (3), \n",
    "and add noise to the population at each time point. Do this by adding an expression that uses a `numpy` function to generate a random value for each time point drawn from a normal distribution of `mean=0` and `stdev=250` (i.e., population_size_noise = expression_from_part_a + expression_to_add_noise).\n",
    "\"\"\"\n",
    "\n",
    "import numpy as np\n",
    "# Set the initial population and growth rate\n",
    "N0 = 100\n",
    "r = 0.4\n",
    "# Generate an array of time points from 0 to 10 seconds in 0.2 second increments\n",
    "t = np.arange(0, 10.2, 0.2)\n",
    "# Evaluate the population size for each time point\n",
    "population_size = N0 * np.exp(r * t)\n",
    "# Add noise to the population size\n",
    "population_size_noise = population_size + np.random.normal(0, 250, size=t.shape)\n",
    "# Print the results\n",
    "print(\"Time points (t):\", t)\n",
    "print(\"Population size (without noise):\", population_size)\n",
    "print(\"Population size (with noise):\", population_size_noise)\n"
   ]
  },
  {
   "cell_type": "markdown",
   "metadata": {},
   "source": [
    "<details>\n",
    "  <summary>Answer</summary>\n",
    "\n",
    "  ```python\n",
    "  import numpy as np\n",
    "\n",
    "  #set initial population\n",
    "  N0 = 100\n",
    "  #set growth rate\n",
    "  rate = 0.4\n",
    "  #create array of time points \n",
    "  t = np.arange(start=0, stop=10.2, step=0.2)\n",
    "\n",
    "  #calculate population of colony at the time points in t\n",
    "  population_size = N0 * np.exp(rate*t)\n",
    "  print('Population size is: ',population_size)\n",
    "\n",
    "  #add noise to population at each time point\n",
    "  population_size_noise = N0 * np.exp(rate*t) + np.random.normal(loc=0, scale=250, size=np.shape(population_size))\n",
    "  print('Population size with noise is: ',population_size_noise)\n",
    "  ```\n",
    "</details>"
   ]
  },
  {
   "cell_type": "markdown",
   "metadata": {
    "id": "QmxvYhS3OCNJ"
   },
   "source": [
    "### 2. Create a multiplication table for the number 6."
   ]
  },
  {
   "cell_type": "code",
   "execution_count": 2,
   "metadata": {
    "colab": {
     "base_uri": "https://localhost:8080/"
    },
    "executionInfo": {
     "elapsed": 8,
     "status": "ok",
     "timestamp": 1668296913832,
     "user": {
      "displayName": "Kaylie Lau",
      "userId": "01284785813595846851"
     },
     "user_tz": 300
    },
    "id": "Fg9nfyEvPMLF",
    "outputId": "694b4804-2901-4b22-d573-c7b29be99928"
   },
   "outputs": [
    {
     "name": "stdout",
     "output_type": "stream",
     "text": [
      "Multiplication table for 6:\n",
      "6 x 1 = 6\n",
      "6 x 2 = 12\n",
      "6 x 3 = 18\n",
      "6 x 4 = 24\n",
      "6 x 5 = 30\n",
      "6 x 6 = 36\n",
      "6 x 7 = 42\n",
      "6 x 8 = 48\n",
      "6 x 9 = 54\n",
      "6 x 10 = 60\n"
     ]
    }
   ],
   "source": [
    "#Create a multiplication table for the number 6 with numpy\n",
    "\n",
    "import numpy as np\n",
    "# Create a range of numbers from 1 to 10\n",
    "numbers = np.arange(1, 11)\n",
    "# Create a multiplication table for the number 6\n",
    "multiplication_table = 6 * numbers\n",
    "# Print the multiplication table\n",
    "print(\"Multiplication table for 6:\")\n",
    "for i in range(len(numbers)):\n",
    "    print(f\"6 x {numbers[i]} = {multiplication_table[i]}\")"
   ]
  },
  {
   "cell_type": "markdown",
   "metadata": {},
   "source": [
    "<details>\n",
    "  <summary>Answer</summary>\n",
    "\n",
    "  ```python\n",
    "  rows = np.arange(1, 7)\n",
    "  columns = rows[:,np.newaxis]\n",
    "  arr = rows * columns\n",
    "  arr\n",
    "  ```\n",
    "</details>"
   ]
  },
  {
   "cell_type": "markdown",
   "metadata": {
    "id": "FshwbTe5PFNg"
   },
   "source": [
    "### 3. Slice `arr` to create the following two arrays:\n",
    "\n",
    "`arr1` = [4, 12, 3]\n",
    "\n",
    "`arr2` = [3, 19]"
   ]
  },
  {
   "cell_type": "code",
   "execution_count": 3,
   "metadata": {
    "colab": {
     "base_uri": "https://localhost:8080/"
    },
    "executionInfo": {
     "elapsed": 126,
     "status": "ok",
     "timestamp": 1668297029241,
     "user": {
      "displayName": "Kaylie Lau",
      "userId": "01284785813595846851"
     },
     "user_tz": 300
    },
    "id": "or6m9tOLPsoz",
    "outputId": "6ba143e8-e468-4384-eee9-7b9466474b2b"
   },
   "outputs": [
    {
     "name": "stdout",
     "output_type": "stream",
     "text": [
      "arr1: [ 4 12  3]\n",
      "arr2: [ 3 19]\n"
     ]
    }
   ],
   "source": [
    "#Slice `arr` to create the following two arrays:\n",
    "#arr1` = [4, 12, 3], arr2` = [3, 19]\n",
    "\n",
    "import numpy as np\n",
    "# Create the original array\n",
    "arr = np.array([4, 12, 3, 3, 19])\n",
    "# Slice the array to create arr1 and arr2\n",
    "arr1 = arr[:3]  # First three elements\n",
    "arr2 = arr[3:]  # Last two elements\n",
    "# Print the results\n",
    "print(\"arr1:\", arr1)\n",
    "print(\"arr2:\", arr2)\n"
   ]
  },
  {
   "cell_type": "markdown",
   "metadata": {},
   "source": [
    "<details>\n",
    "  <summary>Answer</summary>\n",
    "\n",
    "  ```python\n",
    "  arr = np.array([[4, 12, 98], [12, 11, 92], [3, 19, 60]])\n",
    "  arr\n",
    "\n",
    "  arr1 = arr[:,0]\n",
    "  print(arr1)\n",
    "\n",
    "  arr2 = arr[2,0:2]\n",
    "  print(arr2)\n",
    "  ```\n",
    "</details>"
   ]
  }
 ],
 "metadata": {
  "colab": {
   "authorship_tag": "ABX9TyMLRnQUjVoJta2UK9xkrr7Z",
   "collapsed_sections": [],
   "provenance": []
  },
  "kernelspec": {
   "display_name": "dsi_participant",
   "language": "python",
   "name": "python3"
  },
  "language_info": {
   "codemirror_mode": {
    "name": "ipython",
    "version": 3
   },
   "file_extension": ".py",
   "mimetype": "text/x-python",
   "name": "python",
   "nbconvert_exporter": "python",
   "pygments_lexer": "ipython3",
   "version": "3.9.21"
  }
 },
 "nbformat": 4,
 "nbformat_minor": 0
}
