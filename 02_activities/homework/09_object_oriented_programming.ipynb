{
 "cells": [
  {
   "cell_type": "markdown",
   "metadata": {
    "id": "cxCHAm0GXfFb"
   },
   "source": [
    "# Object Oriented Programming\n",
    "## Practice Problems"
   ]
  },
  {
   "cell_type": "markdown",
   "metadata": {
    "id": "Z34V5gPgjo1B"
   },
   "source": [
    "### 1. Create a class called `Book` that has the attributes `title`, `author`, `pages`, `price`. It also has the method `get_price()` which returns `price`. Then create two instances of this class:\n",
    "\n",
    "- `b1`:\n",
    "`title` -> 'Practical Programming...'\n",
    "`author` -> 'Gries, Campbell, Montojo'\n",
    "`pages` -> 383\n",
    "`price` -> 50\n",
    "\n",
    "- `b2`:\n",
    "`title` -> 'Building a Career in Data Science'\n",
    "`author` -> 'Robinson, Nolis'\n",
    "`pages` -> 322\n",
    "`price` -> 40"
   ]
  },
  {
   "cell_type": "code",
   "execution_count": 2,
   "metadata": {
    "colab": {
     "base_uri": "https://localhost:8080/"
    },
    "executionInfo": {
     "elapsed": 11,
     "status": "ok",
     "timestamp": 1668131109931,
     "user": {
      "displayName": "Kaylie Lau",
      "userId": "01284785813595846851"
     },
     "user_tz": 300
    },
    "id": "LJ_Hn1xYmzUw",
    "outputId": "2cb73c7a-b4a8-4f72-cf5a-1a37fdb96389"
   },
   "outputs": [
    {
     "name": "stdout",
     "output_type": "stream",
     "text": [
      "Book 1: Practical Python Programming, Author: Gries, Campbell, Montojo, Pages: 383, Price: $50\n",
      "Book 2: Building a Career in Data Science, Author: Robinson, Nolis, Pages: 322, Price: $40\n"
     ]
    }
   ],
   "source": [
    "\"\"\"1. Create a class called `Book` that has the attributes `title`, `author`, `pages`, `price`. \n",
    "It also has the method `get_price()` which returns `price`. Then create two instances of this class:\n",
    "\n",
    "- `b1`:\n",
    "`title` -> 'Practical Programming...'\n",
    "`author` -> 'Gries, Campbell, Montojo'\n",
    "`pages` -> 383\n",
    "`price` -> 50\n",
    "\n",
    "- `b2`:\n",
    "`title` -> 'Building a Career in Data Science'\n",
    "`author` -> 'Robinson, Nolis'\n",
    "`pages` -> 322\n",
    "`price` -> 40\"\"\"\n",
    "\n",
    "class Book:\n",
    "    def __init__(self, title, author, pages, price):\n",
    "        self.title = title\n",
    "        self.author = author\n",
    "        self.pages = pages\n",
    "        self.price = price\n",
    "\n",
    "    def get_price(self):\n",
    "        return self.price\n",
    "# Creating instances of the Book class\n",
    "b1 = Book('Practical Python Programming', 'Gries, Campbell, Montojo', 383, 50)\n",
    "b2 = Book('Building a Career in Data Science', 'Robinson, Nolis', 322, 40)\n",
    "# Printing the details of the books\n",
    "print(f\"Book 1: {b1.title}, Author: {b1.author}, Pages: {b1.pages}, Price: ${b1.get_price()}\")\n",
    "print(f\"Book 2: {b2.title}, Author: {b2.author}, Pages: {b2.pages}, Price: ${b2.get_price()}\")"
   ]
  },
  {
   "cell_type": "markdown",
   "metadata": {},
   "source": [
    "<details>\n",
    "  <summary>Answer</summary>\n",
    "\n",
    "  ```python\n",
    "  class Book:\n",
    "  def __init__(self, title, author, pages, price):\n",
    "    self.title = title\n",
    "    self.author = author\n",
    "    self.pages = pages\n",
    "    self.price = price\n",
    "\n",
    "  def get_price(self):\n",
    "    return self.price\n",
    "\n",
    "  b1 = Book('Practical Programming...', 'Gries, Campbell, Montojo', 383, 50)\n",
    "  b2 = Book('Building a Career in Data Science', 'Robinson, Nolis', 322, 40)\n",
    "\n",
    "  print(b1.getprice())\n",
    "  ```\n",
    "</details>"
   ]
  },
  {
   "cell_type": "markdown",
   "metadata": {},
   "source": [
    "### 2. Create a `Phone` class that has the attributes `model`, `id`, `name`, `brand` and `price`. Create the getters and setters for each attribute. As well as the following methods: `calculate_total` which takes the price and calculates it by the tax argument."
   ]
  },
  {
   "cell_type": "code",
   "execution_count": 5,
   "metadata": {},
   "outputs": [
    {
     "name": "stdout",
     "output_type": "stream",
     "text": [
      "Phone Model: iPhone 13, ID: A2634, Name: iPhone, Brand: Apple, Price: $999.99\n",
      "Total Price with 7.0% tax: $1069.99\n"
     ]
    }
   ],
   "source": [
    "\"\"\"Create a `Phone` class that has the attributes `model`, `id`, `name`, `brand` and `price`. \n",
    "Create the getters and setters for each attribute. As well as the following methods: `calculate_total`\n",
    " which takes the price and calculates it by the tax argument.\"\"\"\n",
    "\n",
    "class Phone:\n",
    "    def __init__(self, model, id, name, brand, price):\n",
    "        self._model = model\n",
    "        self._id = id\n",
    "        self._name = name\n",
    "        self._brand = brand\n",
    "        self._price = price\n",
    "\n",
    "    @property # getter for model\n",
    "    def model(self):\n",
    "        return self._model\n",
    "\n",
    "    @model.setter\n",
    "    def model(self, value):\n",
    "        self._model = value\n",
    "\n",
    "    @property # getter for id\n",
    "    def id(self):\n",
    "        return self._id\n",
    "\n",
    "    @id.setter\n",
    "    def id(self, value):\n",
    "        self._id = value\n",
    "\n",
    "    @property\n",
    "    def name(self):\n",
    "        return self._name\n",
    "\n",
    "    @name.setter\n",
    "    def name(self, value):\n",
    "        self._name = value\n",
    "\n",
    "    @property\n",
    "    def brand(self):\n",
    "        return self._brand\n",
    "\n",
    "    @brand.setter\n",
    "    def brand(self, value):\n",
    "        self._brand = value\n",
    "\n",
    "    @property\n",
    "    def price(self):\n",
    "        return self._price\n",
    "\n",
    "    @price.setter\n",
    "    def price(self, value):\n",
    "        self._price = value\n",
    "\n",
    "    def calculate_total(self, tax_rate):\n",
    "        \"\"\"Calculates the total price including tax.\"\"\"\n",
    "        if not (0 <= tax_rate <= 1):\n",
    "            raise ValueError(\"Tax rate must be between 0 and 1\")\n",
    "        if not isinstance(tax_rate, (int, float)):\n",
    "            raise TypeError(\"Tax rate must be a number\")\n",
    "        if tax_rate < 0:\n",
    "            raise ValueError(\"Tax rate cannot be negative\")\n",
    "        if tax_rate > 1:            \n",
    "            raise ValueError(\"Tax rate cannot be greater than 1\")\n",
    "        # Calculate total price including tax                       \n",
    "        return self.price * (1 + tax_rate)\n",
    "    \n",
    "# Creating an instance of the Phone class\n",
    "p1 = Phone('iPhone 13', 'A2634', 'iPhone', 'Apple', 999.99)\n",
    "# Printing the details of the phone\n",
    "print(f\"Phone Model: {p1.model}, ID: {p1.id}, Name: {p1.name}, Brand: {p1.brand}, Price: ${p1.price}\")\n",
    "# Calculating the total price with a tax rate of 0.07 (7%)\n",
    "tax_rate = 0.07\n",
    "total_price = p1.calculate_total(tax_rate)\n",
    "print(f\"Total Price with {round(tax_rate*100, 3)}% tax: ${round(total_price, 2)}\")"
   ]
  },
  {
   "cell_type": "markdown",
   "metadata": {},
   "source": [
    "<details>\n",
    "  <summary>Answer</summary>\n",
    "\n",
    "  ```python\n",
    "  class Phone:\n",
    "    def __init__(self, model, id, name, brand, price):\n",
    "      self._model = model\n",
    "      self._id = id\n",
    "      self._name = name\n",
    "      self._brand = brand\n",
    "      self._price = price\n",
    "    \n",
    "    def calculate_total(self, tax):\n",
    "      return self._price * tax\n",
    "    \n",
    "  phone = Phone(\"15 Pro Max\", 1, \"iPhone\", \"Apple\", 1599)\n",
    "  print(phone.calculate_total(1.13))\n",
    "  ```\n",
    "</details>"
   ]
  }
 ],
 "metadata": {
  "colab": {
   "authorship_tag": "ABX9TyO3VijQCXDe7a1I0vgK92JH",
   "collapsed_sections": [],
   "provenance": []
  },
  "kernelspec": {
   "display_name": "dsi_participant",
   "language": "python",
   "name": "python3"
  },
  "language_info": {
   "codemirror_mode": {
    "name": "ipython",
    "version": 3
   },
   "file_extension": ".py",
   "mimetype": "text/x-python",
   "name": "python",
   "nbconvert_exporter": "python",
   "pygments_lexer": "ipython3",
   "version": "3.9.21"
  }
 },
 "nbformat": 4,
 "nbformat_minor": 0
}
